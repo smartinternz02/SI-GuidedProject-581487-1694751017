{
 "cells": [
  {
   "cell_type": "markdown",
   "metadata": {},
   "source": [
    "## ASSIGNMENT 1 \n",
    "# QUESTIONS \n",
    "Task - 1 Create a pandas dataframe (DataFrame name as 'df') with numpy random values (4 features and 4 observation)\n",
    "\n",
    "Task - 2 Rename the task - 1 'df' dataframe column names to 'Random value 1', 'Random value 2', 'Random value 3' & 'Random value 4'\n",
    "\n",
    "Task - 3 Find the descriptive statistics of the 'df' dataframe.\n",
    "\n",
    "Task - 4 Check for the null values in 'df' and find the data type of the columns.\n",
    "\n",
    "Task - 5 Display the 'Random value 2' & 'Random value 3' columns with location method and index location method"
   ]
  },
  {
   "cell_type": "code",
   "execution_count": 1,
   "metadata": {},
   "outputs": [
    {
     "name": "stdout",
     "output_type": "stream",
     "text": [
      "Task 1 - DataFrame 'df':\n",
      "   Random value 1  Random value 2  Random value 3  Random value 4\n",
      "0        0.022766        0.823510        0.312570        0.700289\n",
      "1        0.805517        0.488957        0.544154        0.591351\n",
      "2        0.264552        0.628920        0.611980        0.401808\n",
      "3        0.972916        0.286552        0.799281        0.799982\n",
      "\n",
      "Task 2 - Column names after renaming:\n",
      "Index(['Random value 1', 'Random value 2', 'Random value 3', 'Random value 4'], dtype='object')\n",
      "\n",
      "Task 3 - Descriptive statistics of 'df':\n",
      "       Random value 1  Random value 2  Random value 3  Random value 4\n",
      "count        4.000000        4.000000        4.000000        4.000000\n",
      "mean         0.516438        0.556985        0.566996        0.623358\n",
      "std          0.446877        0.226548        0.201026        0.170512\n",
      "min          0.022766        0.286552        0.312570        0.401808\n",
      "25%          0.204106        0.438355        0.486258        0.543965\n",
      "50%          0.535035        0.558938        0.578067        0.645820\n",
      "75%          0.847367        0.677567        0.658805        0.725212\n",
      "max          0.972916        0.823510        0.799281        0.799982\n",
      "\n",
      "Task 4 - Null values and data types:\n",
      "Null Values:\n",
      "Random value 1    0\n",
      "Random value 2    0\n",
      "Random value 3    0\n",
      "Random value 4    0\n",
      "dtype: int64\n",
      "\n",
      "Data Types:\n",
      "Random value 1    float64\n",
      "Random value 2    float64\n",
      "Random value 3    float64\n",
      "Random value 4    float64\n",
      "dtype: object\n",
      "\n",
      "Task 5 - 'Random value 2' & 'Random value 3' columns:\n",
      "Using .loc method:\n",
      "0    0.823510\n",
      "1    0.488957\n",
      "2    0.628920\n",
      "3    0.286552\n",
      "Name: Random value 2, dtype: float64\n",
      "0    0.312570\n",
      "1    0.544154\n",
      "2    0.611980\n",
      "3    0.799281\n",
      "Name: Random value 3, dtype: float64\n",
      "\n",
      "Using iloc index location method:\n",
      "0    0.823510\n",
      "1    0.488957\n",
      "2    0.628920\n",
      "3    0.286552\n",
      "Name: Random value 2, dtype: float64\n",
      "0    0.312570\n",
      "1    0.544154\n",
      "2    0.611980\n",
      "3    0.799281\n",
      "Name: Random value 3, dtype: float64\n"
     ]
    }
   ],
   "source": [
    "import pandas as pd\n",
    "import numpy as np\n",
    "\n",
    "# Task 1\n",
    "data = np.random.rand(4, 4)\n",
    "df = pd.DataFrame(data, columns=['Random value 1', 'Random value 2', 'Random value 3', 'Random value 4'])\n",
    "\n",
    "# Task 2\n",
    "df.columns = ['Random value 1', 'Random value 2', 'Random value 3', 'Random value 4']\n",
    "\n",
    "# Task 3\n",
    "descriptive_stats = df.describe()\n",
    "\n",
    "# Task 4\n",
    "null_values = df.isnull().sum()\n",
    "data_types = df.dtypes\n",
    "\n",
    "# Task 5\n",
    "random_value_2_loc = df.loc[:, 'Random value 2']\n",
    "random_value_3_loc = df.loc[:, 'Random value 3']\n",
    "random_value_2_idx = df.iloc[:, 1]\n",
    "random_value_3_idx = df.iloc[:, 2]\n",
    "\n",
    "print(\"Task 1 - DataFrame 'df':\")\n",
    "print(df)\n",
    "\n",
    "print(\"\\nTask 2 - Column names after renaming:\")\n",
    "print(df.columns)\n",
    "\n",
    "print(\"\\nTask 3 - Descriptive statistics of 'df':\")\n",
    "print(descriptive_stats)\n",
    "\n",
    "print(\"\\nTask 4 - Null values and data types:\")\n",
    "print(\"Null Values:\")\n",
    "print(null_values)\n",
    "print(\"\\nData Types:\")\n",
    "print(data_types)\n",
    "\n",
    "print(\"\\nTask 5 - 'Random value 2' & 'Random value 3' columns:\")\n",
    "print(\"Using .loc method:\")\n",
    "print(random_value_2_loc)\n",
    "print(random_value_3_loc)\n",
    "print(\"\\nUsing iloc index location method:\")\n",
    "print(random_value_2_idx)\n",
    "print(random_value_3_idx)\n"
   ]
  },
  {
   "cell_type": "markdown",
   "metadata": {},
   "source": [
    "\n",
    "# QUESTIONS\n",
    "\n",
    "\n",
    "Task - 1 Create a pandas dataframe (DataFrame name as 'df') (10 observation and 5 features)\n",
    "\n",
    "Task- 2 Check the info of 'df'\n",
    "\n",
    "Task 3- Check the descriptive statistics of 'df'\n",
    "\n",
    "Task 4- check the 4th index observation with 'loc' slicing operator.\n",
    "\n",
    "Task 5 - Check the null values in your 'df'\n",
    "\n"
   ]
  },
  {
   "cell_type": "code",
   "execution_count": 12,
   "metadata": {},
   "outputs": [],
   "source": [
    "import pandas as pd\n",
    "import numpy as np  "
   ]
  },
  {
   "cell_type": "code",
   "execution_count": 13,
   "metadata": {},
   "outputs": [],
   "source": [
    "# Task 1\n",
    "data = {\n",
    "    'Feature1': np.random.rand(10),\n",
    "    'Feature2': np.random.randint(0,50,10),\n",
    "    'Feature3': np.random.choice(['A','B','C'],10),\n",
    "    'Feature4': np.random.randn(10),\n",
    "    'Feature5': np.random.uniform(1,10,10)\n",
    "}"
   ]
  },
  {
   "cell_type": "code",
   "execution_count": 14,
   "metadata": {},
   "outputs": [],
   "source": [
    "df = pd.DataFrame(data)"
   ]
  },
  {
   "cell_type": "code",
   "execution_count": 15,
   "metadata": {},
   "outputs": [
    {
     "name": "stdout",
     "output_type": "stream",
     "text": [
      "Info of \"df\": \n",
      "<class 'pandas.core.frame.DataFrame'>\n",
      "RangeIndex: 10 entries, 0 to 9\n",
      "Data columns (total 5 columns):\n",
      " #   Column    Non-Null Count  Dtype  \n",
      "---  ------    --------------  -----  \n",
      " 0   Feature1  10 non-null     float64\n",
      " 1   Feature2  10 non-null     int32  \n",
      " 2   Feature3  10 non-null     object \n",
      " 3   Feature4  10 non-null     float64\n",
      " 4   Feature5  10 non-null     float64\n",
      "dtypes: float64(3), int32(1), object(1)\n",
      "memory usage: 488.0+ bytes\n",
      "None\n"
     ]
    }
   ],
   "source": [
    "# Task 2\n",
    "print('Info of \"df\": ')\n",
    "print(df.info())"
   ]
  },
  {
   "cell_type": "code",
   "execution_count": 16,
   "metadata": {},
   "outputs": [
    {
     "name": "stdout",
     "output_type": "stream",
     "text": [
      "Descriptive Statistics of \"df\": \n",
      "        Feature1   Feature2   Feature4   Feature5\n",
      "count  10.000000  10.000000  10.000000  10.000000\n",
      "mean    0.535552  27.500000  -0.479912   6.147156\n",
      "std     0.313339  12.572015   0.729823   2.621564\n",
      "min     0.077256   1.000000  -1.669304   2.656390\n",
      "25%     0.262245  21.250000  -0.855763   3.801093\n",
      "50%     0.603591  27.000000  -0.340769   5.961211\n",
      "75%     0.684090  37.500000  -0.088515   8.260858\n",
      "max     0.995616  43.000000   0.761327   9.981893\n"
     ]
    }
   ],
   "source": [
    "# Task 3\n",
    "print('Descriptive Statistics of \"df\": ')\n",
    "print(df.describe())"
   ]
  },
  {
   "cell_type": "code",
   "execution_count": 17,
   "metadata": {},
   "outputs": [
    {
     "name": "stdout",
     "output_type": "stream",
     "text": [
      "4th Index observation with 'loc' slicing Operator: \n",
      "Feature1    0.678847\n",
      "Feature2          41\n",
      "Feature3           A\n",
      "Feature4    0.761327\n",
      "Feature5    3.563124\n",
      "Name: 2, dtype: object\n"
     ]
    }
   ],
   "source": [
    "# Task 4\n",
    "print(\"4th Index observation with 'loc' slicing Operator: \")\n",
    "print(df.loc[2])"
   ]
  },
  {
   "cell_type": "code",
   "execution_count": 18,
   "metadata": {},
   "outputs": [
    {
     "name": "stdout",
     "output_type": "stream",
     "text": [
      " Null Values in 'df':\n",
      "Feature1    0\n",
      "Feature2    0\n",
      "Feature3    0\n",
      "Feature4    0\n",
      "Feature5    0\n",
      "dtype: int64\n"
     ]
    }
   ],
   "source": [
    "# Task 5\n",
    "print(\" Null Values in 'df':\" )\n",
    "print(df.isnull().sum())\n"
   ]
  },
  {
   "cell_type": "markdown",
   "metadata": {},
   "source": [
    "DONE BY\n",
    "THARAKANADH SANJAY\n",
    "21BCE8336\n",
    "VIT AP"
   ]
  }
 ],
 "metadata": {
  "kernelspec": {
   "display_name": "Python 3",
   "language": "python",
   "name": "python3"
  },
  "language_info": {
   "codemirror_mode": {
    "name": "ipython",
    "version": 3
   },
   "file_extension": ".py",
   "mimetype": "text/x-python",
   "name": "python",
   "nbconvert_exporter": "python",
   "pygments_lexer": "ipython3",
   "version": "3.10.11"
  },
  "orig_nbformat": 4
 },
 "nbformat": 4,
 "nbformat_minor": 2
}
